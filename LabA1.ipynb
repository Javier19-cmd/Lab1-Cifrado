{
 "cells": [
  {
   "cell_type": "markdown",
   "metadata": {},
   "source": [
    "Limpieza del texto."
   ]
  },
  {
   "cell_type": "code",
   "execution_count": 92,
   "metadata": {},
   "outputs": [
    {
     "name": "stdout",
     "output_type": "stream",
     "text": [
      "hola mundo como estas caña\n"
     ]
    }
   ],
   "source": [
    "import unicodedata\n",
    "\n",
    "def limpiar_texto(texto):\n",
    "    \n",
    "    texto = texto.lower()\n",
    "    \n",
    "    texto_sin_tildes = ''.join((c for c in unicodedata.normalize('NFC', texto)))\n",
    "    texto_limpio = \"\"\n",
    "    for caracter in texto_sin_tildes:\n",
    "        if caracter.isalpha() or caracter == ' ':\n",
    "            texto_limpio += caracter\n",
    "    \n",
    "    # Quitando tildes en caso de que los haya\n",
    "    texto_limpio = texto_limpio.replace(\"á\", \"a\")\n",
    "    texto_limpio = texto_limpio.replace(\"é\", \"e\")\n",
    "    texto_limpio = texto_limpio.replace(\"í\", \"i\")\n",
    "    texto_limpio = texto_limpio.replace(\"ó\", \"o\")\n",
    "    texto_limpio = texto_limpio.replace(\"ú\", \"u\")\n",
    "    \n",
    "    return texto_limpio\n",
    "\n",
    "# Prueba de la función\n",
    "texto = \"¡Hola, mundo! ¿Cómo estás? caña\"\n",
    "texto_limpio = limpiar_texto(texto)\n",
    "print(texto_limpio)"
   ]
  },
  {
   "cell_type": "markdown",
   "metadata": {},
   "source": [
    "Contador de frecuencias"
   ]
  },
  {
   "cell_type": "code",
   "execution_count": 93,
   "metadata": {},
   "outputs": [],
   "source": [
    "def calcular_distribucion(texto):\n",
    "    frecuencias = {chr(i): 0 for i in range(97, 123)}\n",
    "    frecuencias['ñ'] = 0\n",
    "    \n",
    "    for caracter in texto:\n",
    "        if caracter.isalpha() or caracter == 'ñ':\n",
    "            frecuencias[caracter.lower()] += 1\n",
    "\n",
    "    total_caracteres = sum(frecuencias.values())\n",
    "\n",
    "    probabilidades = {caracter: (frecuencia / total_caracteres) * 100 for caracter, frecuencia in frecuencias.items()}\n",
    "\n",
    "    return probabilidades"
   ]
  },
  {
   "cell_type": "markdown",
   "metadata": {},
   "source": [
    "Cifrado César"
   ]
  },
  {
   "cell_type": "code",
   "execution_count": 94,
   "metadata": {},
   "outputs": [],
   "source": [
    "def cifrado_caesar(texto, desplazamiento):\n",
    "    alfabeto = 'abcdefghijklmnñopqrstuvwxyz'\n",
    "    texto_cifrado = ''\n",
    "    for letra in texto:\n",
    "        if letra in alfabeto:\n",
    "            indice = (alfabeto.index(letra) + desplazamiento) % len(alfabeto)\n",
    "            texto_cifrado += alfabeto[indice]\n",
    "        else:\n",
    "            texto_cifrado += letra\n",
    "    return texto_cifrado\n",
    "\n",
    "def descifrado_caesar(texto_cifrado, desplazamiento):\n",
    "    return cifrado_caesar(texto_cifrado, -desplazamiento)"
   ]
  },
  {
   "cell_type": "code",
   "execution_count": 95,
   "metadata": {},
   "outputs": [
    {
     "name": "stdout",
     "output_type": "stream",
     "text": [
      "Texto cifrado de César: \n",
      "dwdfdu kdvwd hñ dodphfhu\n",
      "Texto descifrado de César: \n",
      "atacar hasta el amanecer\n"
     ]
    },
    {
     "data": {
      "text/plain": [
       "{'a': 0.0,\n",
       " 'b': 0.0,\n",
       " 'c': 0.0,\n",
       " 'd': 33.33333333333333,\n",
       " 'e': 0.0,\n",
       " 'f': 9.523809523809524,\n",
       " 'g': 0.0,\n",
       " 'h': 14.285714285714285,\n",
       " 'i': 0.0,\n",
       " 'j': 0.0,\n",
       " 'k': 4.761904761904762,\n",
       " 'l': 0.0,\n",
       " 'm': 0.0,\n",
       " 'n': 0.0,\n",
       " 'o': 4.761904761904762,\n",
       " 'p': 4.761904761904762,\n",
       " 'q': 0.0,\n",
       " 'r': 0.0,\n",
       " 's': 0.0,\n",
       " 't': 0.0,\n",
       " 'u': 9.523809523809524,\n",
       " 'v': 4.761904761904762,\n",
       " 'w': 9.523809523809524,\n",
       " 'x': 0.0,\n",
       " 'y': 0.0,\n",
       " 'z': 0.0,\n",
       " 'ñ': 4.761904761904762}"
      ]
     },
     "execution_count": 95,
     "metadata": {},
     "output_type": "execute_result"
    }
   ],
   "source": [
    "texto = \"atacar hasta el amanecer\"\n",
    "texto_limpio = limpiar_texto(texto)\n",
    "\n",
    "# Cifrado de César\n",
    "texto_cifrado_cesar = cifrado_caesar(texto_limpio, 3)\n",
    "print(\"Texto cifrado de César: \")\n",
    "print(texto_cifrado_cesar)\n",
    "\n",
    "# Descifrado de César\n",
    "texto_descifrado = descifrado_caesar(texto_cifrado_cesar, 3)\n",
    "print(\"Texto descifrado de César: \")\n",
    "print(texto_descifrado)\n",
    "\n",
    "prob_ce = calcular_distribucion(texto_cifrado_cesar)\n",
    "\n",
    "prob_ce"
   ]
  },
  {
   "cell_type": "markdown",
   "metadata": {},
   "source": [
    "Cifrado Afín"
   ]
  },
  {
   "cell_type": "code",
   "execution_count": 96,
   "metadata": {},
   "outputs": [],
   "source": [
    "alfabeto = 'abcdefghijklmnñopqrstuvwxyz'\n",
    "def cifrado_afin(texto, a, b):\n",
    "    texto_cifrado = ''\n",
    "    for letra in texto:\n",
    "        if letra in alfabeto:\n",
    "            indice = (a * alfabeto.index(letra) + b) % len(alfabeto)\n",
    "            texto_cifrado += alfabeto[indice]\n",
    "        else:\n",
    "            texto_cifrado += letra\n",
    "    return texto_cifrado\n",
    "\n",
    "def descifrado_afin(texto_cifrado, a, b):\n",
    "    a_inv = pow(a, -1, len(alfabeto))\n",
    "    return cifrado_afin(texto_cifrado, a_inv, -a_inv*b)\n"
   ]
  },
  {
   "cell_type": "code",
   "execution_count": 97,
   "metadata": {},
   "outputs": [
    {
     "name": "stdout",
     "output_type": "stream",
     "text": [
      "Texto cifrado afín: \n",
      "miji ñp igwmiq\n",
      "Texto descifrado afín: \n",
      "caña de azucar\n"
     ]
    },
    {
     "data": {
      "text/plain": [
       "{'a': 0.0,\n",
       " 'b': 0.0,\n",
       " 'c': 0.0,\n",
       " 'd': 0.0,\n",
       " 'e': 0.0,\n",
       " 'f': 0.0,\n",
       " 'g': 8.333333333333332,\n",
       " 'h': 0.0,\n",
       " 'i': 33.33333333333333,\n",
       " 'j': 8.333333333333332,\n",
       " 'k': 0.0,\n",
       " 'l': 0.0,\n",
       " 'm': 16.666666666666664,\n",
       " 'n': 0.0,\n",
       " 'o': 0.0,\n",
       " 'p': 8.333333333333332,\n",
       " 'q': 8.333333333333332,\n",
       " 'r': 0.0,\n",
       " 's': 0.0,\n",
       " 't': 0.0,\n",
       " 'u': 0.0,\n",
       " 'v': 0.0,\n",
       " 'w': 8.333333333333332,\n",
       " 'x': 0.0,\n",
       " 'y': 0.0,\n",
       " 'z': 0.0,\n",
       " 'ñ': 8.333333333333332}"
      ]
     },
     "execution_count": 97,
     "metadata": {},
     "output_type": "execute_result"
    }
   ],
   "source": [
    "texto = \"caña de azúcar\"\n",
    "texto_limpio = limpiar_texto(texto)\n",
    "\n",
    "# Cifrado afín\n",
    "texto_cifrado_afin = cifrado_afin(texto_limpio, 2, 8)\n",
    "print(\"Texto cifrado afín: \")\n",
    "print(texto_cifrado_afin)\n",
    "\n",
    "# Descifrado afín\n",
    "texto_descifrado = descifrado_afin(texto_cifrado_afin, 2, 8)\n",
    "print(\"Texto descifrado afín: \")\n",
    "print(texto_descifrado)\n",
    "\n",
    "prob_af = calcular_distribucion(texto_cifrado_afin)\n",
    "\n",
    "prob_af"
   ]
  },
  {
   "cell_type": "markdown",
   "metadata": {},
   "source": [
    "Cifrado Vigenére"
   ]
  },
  {
   "cell_type": "code",
   "execution_count": 98,
   "metadata": {},
   "outputs": [],
   "source": [
    "def cifrado_vigenere(texto, clave):\n",
    "    alfabeto = 'abcdefghijklmnñopqrstuvwxyz'\n",
    "    texto_cifrado = ''\n",
    "    j = 0\n",
    "    for i in range(len(texto)):\n",
    "        if texto[i] in alfabeto:\n",
    "            desplazamiento = alfabeto.index(clave[j % len(clave)])\n",
    "            indice = (alfabeto.index(texto[i]) + desplazamiento) % len(alfabeto)\n",
    "            texto_cifrado += alfabeto[indice]\n",
    "            j += 1\n",
    "        else:\n",
    "            texto_cifrado += texto[i]\n",
    "    return texto_cifrado\n",
    "\n",
    "def descifrado_vigenere(texto_cifrado, clave):\n",
    "    alfabeto = 'abcdefghijklmnñopqrstuvwxyz'\n",
    "    texto = ''\n",
    "    j = 0\n",
    "    for i in range(len(texto_cifrado)):\n",
    "        if texto_cifrado[i] in alfabeto:\n",
    "            desplazamiento = alfabeto.index(clave[j % len(clave)])\n",
    "            indice = (alfabeto.index(texto_cifrado[i]) - desplazamiento) % len(alfabeto)\n",
    "            texto += alfabeto[indice]\n",
    "            j += 1\n",
    "        else:\n",
    "            texto += texto_cifrado[i]\n",
    "    return texto"
   ]
  },
  {
   "cell_type": "code",
   "execution_count": 99,
   "metadata": {},
   "outputs": [
    {
     "name": "stdout",
     "output_type": "stream",
     "text": [
      "Texto cifrado Vigenère: \n",
      "ceaxet rañxc ol vpcxexit\n",
      "Texto descifrado Vigenère: \n",
      "atacar hasta el amanecer\n"
     ]
    },
    {
     "data": {
      "text/plain": [
       "{'a': 9.523809523809524,\n",
       " 'b': 0.0,\n",
       " 'c': 14.285714285714285,\n",
       " 'd': 0.0,\n",
       " 'e': 14.285714285714285,\n",
       " 'f': 0.0,\n",
       " 'g': 0.0,\n",
       " 'h': 0.0,\n",
       " 'i': 4.761904761904762,\n",
       " 'j': 0.0,\n",
       " 'k': 0.0,\n",
       " 'l': 4.761904761904762,\n",
       " 'm': 0.0,\n",
       " 'n': 0.0,\n",
       " 'o': 4.761904761904762,\n",
       " 'p': 4.761904761904762,\n",
       " 'q': 0.0,\n",
       " 'r': 4.761904761904762,\n",
       " 's': 0.0,\n",
       " 't': 9.523809523809524,\n",
       " 'u': 0.0,\n",
       " 'v': 4.761904761904762,\n",
       " 'w': 0.0,\n",
       " 'x': 19.047619047619047,\n",
       " 'y': 0.0,\n",
       " 'z': 0.0,\n",
       " 'ñ': 4.761904761904762}"
      ]
     },
     "execution_count": 99,
     "metadata": {},
     "output_type": "execute_result"
    }
   ],
   "source": [
    "# Texto y clave\n",
    "texto = \"atacar hasta el amanecer\"\n",
    "texto_limpio = limpiar_texto(texto)\n",
    "\n",
    "# Cifrado Vigenère\n",
    "texto_cifrado_vigenere = cifrado_vigenere(texto_limpio, \"clave\")\n",
    "print(\"Texto cifrado Vigenère: \")\n",
    "print(texto_cifrado_vigenere)\n",
    "\n",
    "# Descifrado Vigenère\n",
    "texto_descifrado = descifrado_vigenere(texto_cifrado_vigenere, \"clave\")\n",
    "print(\"Texto descifrado Vigenère: \")\n",
    "print(texto_descifrado)\n",
    "\n",
    "prob_vg = calcular_distribucion(texto_cifrado_vigenere)\n",
    "\n",
    "prob_vg"
   ]
  },
  {
   "cell_type": "markdown",
   "metadata": {},
   "source": [
    "Comparación de frecuencias"
   ]
  },
  {
   "cell_type": "code",
   "execution_count": 100,
   "metadata": {},
   "outputs": [
    {
     "name": "stdout",
     "output_type": "stream",
     "text": [
      "Comparación César: \n",
      "dwdfdu kdvwd hñ dodphfhu\n",
      "Comparación afín: \n",
      "miji ñp igwmiq\n",
      "Comparación Vigenère: \n",
      "ceaxet rañxc ol vpcxexit\n"
     ]
    }
   ],
   "source": [
    "distribucion_teorica = {\n",
    "    'a': 12.53, 'b': 1.42, 'c': 4.68, 'd': 5.86, 'e': 13.68,\n",
    "    'f': 0.69, 'g': 1.01, 'h': 0.70, 'i': 6.25, 'j': 0.44,\n",
    "    'k': 0.02, 'l': 4.97, 'm': 3.15, 'n': 6.71, 'ñ': 0.31,\n",
    "    'o': 8.68, 'p': 2.51, 'q': 0.88, 'r': 6.87, 's': 7.98,\n",
    "    't': 4.63, 'u': 3.93, 'v': 0.90, 'w': 0.01, 'x': 0.22,\n",
    "    'y': 0.90, 'z': 0.52\n",
    "}\n",
    "\n",
    "def comparar_distribuciones(texto_cifrado):\n",
    "    # Cálculo de la distribución del texto cifrado\n",
    "    distribucion_cifrada = calcular_distribucion(texto_cifrado)\n",
    "\n",
    "    # Diccionario para las correspondencias entre caracteres.\n",
    "    correspondencias = {}\n",
    "\n",
    "    # Comparando las distribuciones\n",
    "    for caracter_cifrado, probabilidad_cifrada in distribucion_cifrada.items():\n",
    "        for caracter_teorico, probabilidad_teorica in distribucion_teorica.items():\n",
    "            if abs(probabilidad_cifrada - probabilidad_teorica) < 0.01:\n",
    "                correspondencias[caracter_cifrado] = caracter_teorico\n",
    "\n",
    "    texto_descifrado = \"\"\n",
    "    for caracter in texto_cifrado:\n",
    "        if caracter in correspondencias:\n",
    "            texto_descifrado += correspondencias[caracter]\n",
    "        else:\n",
    "            texto_descifrado += caracter\n",
    "\n",
    "    return texto_descifrado\n",
    "\n",
    "comparacion_cesar = comparar_distribuciones(texto_cifrado_cesar)\n",
    "print(\"Comparación César: \")\n",
    "print(comparacion_cesar)\n",
    "\n",
    "comparacion_afin = comparar_distribuciones(texto_cifrado_afin)\n",
    "print(\"Comparación afín: \")\n",
    "print(comparacion_afin)\n",
    "\n",
    "comparacion_vigenere = comparar_distribuciones(texto_cifrado_vigenere)\n",
    "print(\"Comparación Vigenère: \")\n",
    "print(comparacion_vigenere)"
   ]
  }
 ],
 "metadata": {
  "kernelspec": {
   "display_name": "Python 3",
   "language": "python",
   "name": "python3"
  },
  "language_info": {
   "codemirror_mode": {
    "name": "ipython",
    "version": 3
   },
   "file_extension": ".py",
   "mimetype": "text/x-python",
   "name": "python",
   "nbconvert_exporter": "python",
   "pygments_lexer": "ipython3",
   "version": "3.11.3"
  }
 },
 "nbformat": 4,
 "nbformat_minor": 2
}
